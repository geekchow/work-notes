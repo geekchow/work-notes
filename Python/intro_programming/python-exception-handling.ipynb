{
 "cells": [
  {
   "cell_type": "markdown",
   "id": "b5c40e7b",
   "metadata": {},
   "source": [
    "# Python Exception Handling\n",
    "\n",
    "> Error in Python can be of two types i.e. Syntax errors and Exceptions. \n",
    "\n",
    "- Errors are problems in a program due to which the program will stop the execution. \n",
    "- On the other hand, exceptions are raised when some internal events occur which change the normal flow of the program. \n",
    "\n"
   ]
  },
  {
   "cell_type": "markdown",
   "id": "c7dee94c",
   "metadata": {},
   "source": [
    "## Different types of exceptions in python:\n",
    "\n",
    " - SyntaxError: This exception is raised when the interpreter encounters a syntax error in the code, such as a misspelled keyword, a missing colon, or an unbalanced parenthesis.\n",
    " - TypeError: This exception is raised when an operation or function is applied to an object of the wrong type, such as adding a string to an integer.\n",
    "- NameError: This exception is raised when a variable or function name is not found in the current scope.\n",
    "- IndexError: This exception is raised when an index is out of range for a list, tuple, or other sequence types.\n",
    "- KeyError: This exception is raised when a key is not found in a dictionary.\n",
    "- ValueError: This exception is raised when a function or method is called with an invalid argument or input, such as trying to convert a string to an integer when the string does not represent a valid integer.\n",
    "- AttributeError: This exception is raised when an attribute or method is not found on an object, such as trying to access a non-existent attribute of a class instance.\n",
    "- IOError: This exception is raised when an I/O operation, such as reading or writing a file, fails due to an input/output error.\n",
    "- ZeroDivisionError: This exception is raised when an attempt is made to divide a number by zero.\n",
    "- ImportError: This exception is raised when an import statement fails to find or load a module.\n"
   ]
  },
  {
   "cell_type": "markdown",
   "id": "6678104a",
   "metadata": {},
   "source": [
    "### Try and Except Statement – Catching Exceptions\n"
   ]
  },
  {
   "cell_type": "code",
   "execution_count": 1,
   "id": "096a61ed",
   "metadata": {},
   "outputs": [
    {
     "name": "stdout",
     "output_type": "stream",
     "text": [
      "Second element = 2\n",
      "An error occurred\n"
     ]
    }
   ],
   "source": [
    "# Python program to handle simple runtime error\n",
    "#Python 3\n",
    "\n",
    "a = [1, 2, 3]\n",
    "try:\n",
    "\tprint (\"Second element = %d\" %(a[1]))\n",
    "\n",
    "\t# Throws error since there are only 3 elements in array\n",
    "\tprint (\"Fourth element = %d\" %(a[3]))\n",
    "\n",
    "except:\n",
    "\tprint (\"An error occurred\")\n"
   ]
  },
  {
   "cell_type": "markdown",
   "id": "1bc4332d",
   "metadata": {},
   "source": [
    "### Catching Specific Exception\n"
   ]
  },
  {
   "cell_type": "code",
   "execution_count": 5,
   "id": "d296f54f",
   "metadata": {},
   "outputs": [
    {
     "name": "stdout",
     "output_type": "stream",
     "text": [
      "NameError Occurred and Handled\n"
     ]
    }
   ],
   "source": [
    "# Program to handle multiple errors with one\n",
    "# except statement\n",
    "# Python 3\n",
    "\n",
    "def fun(a):\n",
    "\tif a < 4:\n",
    "\n",
    "\t\t# throws ZeroDivisionError for a = 3\n",
    "\t\tb = a/(a-3)\n",
    "\n",
    "\t# throws NameError if a >= 4\n",
    "\tprint(\"Value of b = \", b)\n",
    "\t\n",
    "try:\n",
    "# \tfun(3)\n",
    "\tfun(5)\n",
    "\n",
    "# note that braces () are necessary here for\n",
    "# multiple exceptions\n",
    "except ZeroDivisionError:\n",
    "\tprint(\"ZeroDivisionError Occurred and Handled\")\n",
    "except NameError:\n",
    "\tprint(\"NameError Occurred and Handled\")\n"
   ]
  },
  {
   "cell_type": "markdown",
   "id": "4de78f65",
   "metadata": {},
   "source": [
    "### Try with Else Clause\n",
    "\n",
    "In Python, you can also use the else clause on the try-except block which must be present after all the except clauses. The code enters the else block only if the try clause does not raise an exception."
   ]
  },
  {
   "cell_type": "code",
   "execution_count": 6,
   "id": "725319fa",
   "metadata": {},
   "outputs": [
    {
     "name": "stdout",
     "output_type": "stream",
     "text": [
      "-5.0\n",
      "a/b result in 0\n"
     ]
    }
   ],
   "source": [
    "# Program to depict else clause with try-except\n",
    "# Python 3\n",
    "# Function which returns a/b\n",
    "def AbyB(a , b):\n",
    "\ttry:\n",
    "\t\tc = ((a+b) / (a-b))\n",
    "\texcept ZeroDivisionError:\n",
    "\t\tprint (\"a/b result in 0\")\n",
    "\telse:\n",
    "\t\tprint (c)\n",
    "\n",
    "# Driver program to test above function\n",
    "AbyB(2.0, 3.0)\n",
    "AbyB(3.0, 3.0)\n",
    "\n"
   ]
  },
  {
   "cell_type": "markdown",
   "id": "29c4e05b",
   "metadata": {},
   "source": [
    "### Finally Keyword in Python\n",
    "\n",
    "Python provides a keyword finally, which is always executed after the try and except blocks. The final block always executes after the normal termination of the try block or after the try block terminates due to some exception."
   ]
  },
  {
   "cell_type": "code",
   "execution_count": 7,
   "id": "81688f83",
   "metadata": {},
   "outputs": [
    {
     "name": "stdout",
     "output_type": "stream",
     "text": [
      "Can't divide by zero\n",
      "This is always executed\n"
     ]
    }
   ],
   "source": [
    "# Python program to demonstrate finally\n",
    "\n",
    "# No exception Exception raised in try block\n",
    "try:\n",
    "\tk = 5//0 # raises divide by zero exception.\n",
    "\tprint(k)\n",
    "\n",
    "# handles zerodivision exception\n",
    "except ZeroDivisionError:\n",
    "\tprint(\"Can't divide by zero\")\n",
    "\n",
    "finally:\n",
    "\t# this block is always executed\n",
    "\t# regardless of exception generation.\n",
    "\tprint('This is always executed')\n"
   ]
  },
  {
   "cell_type": "markdown",
   "id": "83a6b3df",
   "metadata": {},
   "source": [
    "### Raising Exception\n",
    "\n",
    "The raise statement allows the programmer to force a specific exception to occur. The sole argument in raise indicates the exception to be raised. This must be either an exception instance or an exception class (a class that derives from Exception)."
   ]
  },
  {
   "cell_type": "code",
   "execution_count": 8,
   "id": "e78db89c",
   "metadata": {},
   "outputs": [
    {
     "name": "stdout",
     "output_type": "stream",
     "text": [
      "An exception\n"
     ]
    },
    {
     "ename": "NameError",
     "evalue": "Hi there",
     "output_type": "error",
     "traceback": [
      "\u001b[0;31m---------------------------------------------------------------------------\u001b[0m",
      "\u001b[0;31mNameError\u001b[0m                                 Traceback (most recent call last)",
      "\u001b[0;32m<ipython-input-8-87bf2bdaba1c>\u001b[0m in \u001b[0;36m<module>\u001b[0;34m\u001b[0m\n\u001b[1;32m      2\u001b[0m \u001b[0;34m\u001b[0m\u001b[0m\n\u001b[1;32m      3\u001b[0m \u001b[0;32mtry\u001b[0m\u001b[0;34m:\u001b[0m\u001b[0;34m\u001b[0m\u001b[0;34m\u001b[0m\u001b[0m\n\u001b[0;32m----> 4\u001b[0;31m         \u001b[0;32mraise\u001b[0m \u001b[0mNameError\u001b[0m\u001b[0;34m(\u001b[0m\u001b[0;34m\"Hi there\"\u001b[0m\u001b[0;34m)\u001b[0m \u001b[0;31m# Raise Error\u001b[0m\u001b[0;34m\u001b[0m\u001b[0;34m\u001b[0m\u001b[0m\n\u001b[0m\u001b[1;32m      5\u001b[0m \u001b[0;32mexcept\u001b[0m \u001b[0mNameError\u001b[0m\u001b[0;34m:\u001b[0m\u001b[0;34m\u001b[0m\u001b[0;34m\u001b[0m\u001b[0m\n\u001b[1;32m      6\u001b[0m         \u001b[0mprint\u001b[0m \u001b[0;34m(\u001b[0m\u001b[0;34m\"An exception\"\u001b[0m\u001b[0;34m)\u001b[0m\u001b[0;34m\u001b[0m\u001b[0;34m\u001b[0m\u001b[0m\n",
      "\u001b[0;31mNameError\u001b[0m: Hi there"
     ]
    }
   ],
   "source": [
    "# Program to depict Raising Exception\n",
    "\n",
    "try:\n",
    "\traise NameError(\"Hi there\") # Raise Error\n",
    "except NameError:\n",
    "\tprint (\"An exception\")\n",
    "\traise # To determine whether the exception was raised or not\n"
   ]
  },
  {
   "cell_type": "markdown",
   "id": "d590d4e0",
   "metadata": {},
   "source": [
    "## Raising an Exception to Another Exception\n",
    "\n",
    "Let’s consider a situation where we want to raise an exception in response to catching a different exception but want to include information about both exceptions in the traceback.\n",
    "\n",
    "To chain exceptions, use the raise from statement instead of a simple raise statement. This will give you information about both errors."
   ]
  },
  {
   "cell_type": "code",
   "execution_count": 11,
   "id": "3b03f8a5",
   "metadata": {},
   "outputs": [
    {
     "ename": "RuntimeError",
     "evalue": "A parsing error occurred",
     "output_type": "error",
     "traceback": [
      "\u001b[0;31m---------------------------------------------------------------------------\u001b[0m",
      "\u001b[0;31mValueError\u001b[0m                                Traceback (most recent call last)",
      "\u001b[0;32m<ipython-input-11-2ddab9985879>\u001b[0m in \u001b[0;36mexample\u001b[0;34m()\u001b[0m\n\u001b[1;32m      2\u001b[0m     \u001b[0;32mtry\u001b[0m\u001b[0;34m:\u001b[0m\u001b[0;34m\u001b[0m\u001b[0;34m\u001b[0m\u001b[0m\n\u001b[0;32m----> 3\u001b[0;31m         \u001b[0mint\u001b[0m\u001b[0;34m(\u001b[0m\u001b[0;34m'N/A'\u001b[0m\u001b[0;34m)\u001b[0m\u001b[0;34m\u001b[0m\u001b[0;34m\u001b[0m\u001b[0m\n\u001b[0m\u001b[1;32m      4\u001b[0m     \u001b[0;32mexcept\u001b[0m \u001b[0mValueError\u001b[0m \u001b[0;32mas\u001b[0m \u001b[0me\u001b[0m\u001b[0;34m:\u001b[0m\u001b[0;34m\u001b[0m\u001b[0;34m\u001b[0m\u001b[0m\n",
      "\u001b[0;31mValueError\u001b[0m: invalid literal for int() with base 10: 'N/A'",
      "\nThe above exception was the direct cause of the following exception:\n",
      "\u001b[0;31mRuntimeError\u001b[0m                              Traceback (most recent call last)",
      "\u001b[0;32m<ipython-input-11-2ddab9985879>\u001b[0m in \u001b[0;36m<module>\u001b[0;34m\u001b[0m\n\u001b[1;32m      5\u001b[0m         \u001b[0;32mraise\u001b[0m \u001b[0mRuntimeError\u001b[0m\u001b[0;34m(\u001b[0m\u001b[0;34m'A parsing error occurred'\u001b[0m\u001b[0;34m)\u001b[0m \u001b[0;32mfrom\u001b[0m \u001b[0me\u001b[0m\u001b[0;34m\u001b[0m\u001b[0;34m\u001b[0m\u001b[0m\n\u001b[1;32m      6\u001b[0m \u001b[0;34m\u001b[0m\u001b[0m\n\u001b[0;32m----> 7\u001b[0;31m \u001b[0mexample\u001b[0m\u001b[0;34m(\u001b[0m\u001b[0;34m)\u001b[0m\u001b[0;34m\u001b[0m\u001b[0;34m\u001b[0m\u001b[0m\n\u001b[0m",
      "\u001b[0;32m<ipython-input-11-2ddab9985879>\u001b[0m in \u001b[0;36mexample\u001b[0;34m()\u001b[0m\n\u001b[1;32m      3\u001b[0m         \u001b[0mint\u001b[0m\u001b[0;34m(\u001b[0m\u001b[0;34m'N/A'\u001b[0m\u001b[0;34m)\u001b[0m\u001b[0;34m\u001b[0m\u001b[0;34m\u001b[0m\u001b[0m\n\u001b[1;32m      4\u001b[0m     \u001b[0;32mexcept\u001b[0m \u001b[0mValueError\u001b[0m \u001b[0;32mas\u001b[0m \u001b[0me\u001b[0m\u001b[0;34m:\u001b[0m\u001b[0;34m\u001b[0m\u001b[0;34m\u001b[0m\u001b[0m\n\u001b[0;32m----> 5\u001b[0;31m         \u001b[0;32mraise\u001b[0m \u001b[0mRuntimeError\u001b[0m\u001b[0;34m(\u001b[0m\u001b[0;34m'A parsing error occurred'\u001b[0m\u001b[0;34m)\u001b[0m \u001b[0;32mfrom\u001b[0m \u001b[0me\u001b[0m\u001b[0;34m\u001b[0m\u001b[0;34m\u001b[0m\u001b[0m\n\u001b[0m\u001b[1;32m      6\u001b[0m \u001b[0;34m\u001b[0m\u001b[0m\n\u001b[1;32m      7\u001b[0m \u001b[0mexample\u001b[0m\u001b[0;34m(\u001b[0m\u001b[0;34m)\u001b[0m\u001b[0;34m\u001b[0m\u001b[0;34m\u001b[0m\u001b[0m\n",
      "\u001b[0;31mRuntimeError\u001b[0m: A parsing error occurred"
     ]
    }
   ],
   "source": [
    "def example():\n",
    "    try:\n",
    "        int('N/A')\n",
    "    except ValueError as e:\n",
    "        raise RuntimeError('A parsing error occurred') from e\n",
    "  \n",
    "example()"
   ]
  },
  {
   "cell_type": "code",
   "execution_count": 14,
   "id": "d41d8e78",
   "metadata": {},
   "outputs": [
    {
     "name": "stdout",
     "output_type": "stream",
     "text": [
      "It didn't work: A parsing error occurred\n",
      "Cause: invalid literal for int() with base 10: 'N/A'\n"
     ]
    }
   ],
   "source": [
    "# __cause__ attribute of the exception object can be looked to follow \n",
    "# the exception chain as explained in the code given below.\n",
    "try:\n",
    "\texample()\n",
    "except RuntimeError as e:\n",
    "\tprint(\"It didn't work:\", e)\n",
    "\tif e.__cause__:\n",
    "\t\tprint('Cause:', e.__cause__)\n"
   ]
  },
  {
   "cell_type": "code",
   "execution_count": 16,
   "id": "ee467113",
   "metadata": {},
   "outputs": [
    {
     "name": "stdout",
     "output_type": "stream",
     "text": [
      "Couldn't parse: invalid literal for int() with base 10: 'N/A'\n"
     ]
    }
   ],
   "source": [
    "# An implicit form of chained exceptions occurs when \n",
    "# another exception gets raised inside an except block.\n",
    "\n",
    "def example2():\n",
    "\ttry:\n",
    "\t\tint('N/A')\n",
    "\texcept ValueError as e:\n",
    "\t\tprint(\"Couldn't parse:\", e)\n",
    "\n",
    "example2()\n"
   ]
  },
  {
   "cell_type": "code",
   "execution_count": 18,
   "id": "14f95e9a",
   "metadata": {},
   "outputs": [
    {
     "ename": "RuntimeError",
     "evalue": "A parsing error occurred",
     "output_type": "error",
     "traceback": [
      "\u001b[0;31m---------------------------------------------------------------------------\u001b[0m",
      "\u001b[0;31mRuntimeError\u001b[0m                              Traceback (most recent call last)",
      "\u001b[0;32m<ipython-input-18-1465e824c580>\u001b[0m in \u001b[0;36m<module>\u001b[0;34m\u001b[0m\n\u001b[1;32m      7\u001b[0m                 \u001b[0;32mraise\u001b[0m \u001b[0mRuntimeError\u001b[0m\u001b[0;34m(\u001b[0m\u001b[0;34m'A parsing error occurred'\u001b[0m\u001b[0;34m)\u001b[0m \u001b[0;32mfrom\u001b[0m \u001b[0;32mNone\u001b[0m\u001b[0;34m\u001b[0m\u001b[0;34m\u001b[0m\u001b[0m\n\u001b[1;32m      8\u001b[0m \u001b[0;34m\u001b[0m\u001b[0m\n\u001b[0;32m----> 9\u001b[0;31m \u001b[0mexample3\u001b[0m\u001b[0;34m(\u001b[0m\u001b[0;34m)\u001b[0m\u001b[0;34m\u001b[0m\u001b[0;34m\u001b[0m\u001b[0m\n\u001b[0m",
      "\u001b[0;32m<ipython-input-18-1465e824c580>\u001b[0m in \u001b[0;36mexample3\u001b[0;34m()\u001b[0m\n\u001b[1;32m      5\u001b[0m                 \u001b[0mint\u001b[0m\u001b[0;34m(\u001b[0m\u001b[0;34m'N / A'\u001b[0m\u001b[0;34m)\u001b[0m\u001b[0;34m\u001b[0m\u001b[0;34m\u001b[0m\u001b[0m\n\u001b[1;32m      6\u001b[0m         \u001b[0;32mexcept\u001b[0m \u001b[0mValueError\u001b[0m\u001b[0;34m:\u001b[0m\u001b[0;34m\u001b[0m\u001b[0;34m\u001b[0m\u001b[0m\n\u001b[0;32m----> 7\u001b[0;31m                 \u001b[0;32mraise\u001b[0m \u001b[0mRuntimeError\u001b[0m\u001b[0;34m(\u001b[0m\u001b[0;34m'A parsing error occurred'\u001b[0m\u001b[0;34m)\u001b[0m \u001b[0;32mfrom\u001b[0m \u001b[0;32mNone\u001b[0m\u001b[0;34m\u001b[0m\u001b[0;34m\u001b[0m\u001b[0m\n\u001b[0m\u001b[1;32m      8\u001b[0m \u001b[0;34m\u001b[0m\u001b[0m\n\u001b[1;32m      9\u001b[0m \u001b[0mexample3\u001b[0m\u001b[0;34m(\u001b[0m\u001b[0;34m)\u001b[0m\u001b[0;34m\u001b[0m\u001b[0;34m\u001b[0m\u001b[0m\n",
      "\u001b[0;31mRuntimeError\u001b[0m: A parsing error occurred"
     ]
    }
   ],
   "source": [
    "# To suppress chaining, use raise from None\n",
    "\n",
    "def example3():\n",
    "\ttry:\n",
    "\t\tint('N / A')\n",
    "\texcept ValueError:\n",
    "\t\traise RuntimeError('A parsing error occurred') from None\n",
    "\n",
    "example3()\n"
   ]
  },
  {
   "cell_type": "markdown",
   "id": "f3cbec17",
   "metadata": {},
   "source": [
    "## Multiple Exception Handling in Python\n",
    "\n",
    "Given a piece of code that can throw any of several different exceptions, and one needs to account for all of the potential exceptions that could be raised without creating duplicate code or long, meandering code passages.\n",
    "\n"
   ]
  },
  {
   "cell_type": "code",
   "execution_count": 23,
   "id": "5e8ace64",
   "metadata": {},
   "outputs": [
    {
     "ename": "NameError",
     "evalue": "name 'URLError' is not defined",
     "output_type": "error",
     "traceback": [
      "\u001b[0;31m---------------------------------------------------------------------------\u001b[0m",
      "\u001b[0;31mNameError\u001b[0m                                 Traceback (most recent call last)",
      "\u001b[0;32m<ipython-input-23-c36404b91003>\u001b[0m in \u001b[0;36m<module>\u001b[0;34m\u001b[0m\n\u001b[1;32m      1\u001b[0m \u001b[0;32mtry\u001b[0m\u001b[0;34m:\u001b[0m\u001b[0;34m\u001b[0m\u001b[0;34m\u001b[0m\u001b[0m\n\u001b[0;32m----> 2\u001b[0;31m         \u001b[0mclient_obj\u001b[0m\u001b[0;34m.\u001b[0m\u001b[0mget_url\u001b[0m\u001b[0;34m(\u001b[0m\u001b[0murl\u001b[0m\u001b[0;34m)\u001b[0m\u001b[0;34m\u001b[0m\u001b[0;34m\u001b[0m\u001b[0m\n\u001b[0m\u001b[1;32m      3\u001b[0m \u001b[0;32mexcept\u001b[0m \u001b[0;34m(\u001b[0m\u001b[0mURLError\u001b[0m\u001b[0;34m,\u001b[0m \u001b[0mValueError\u001b[0m\u001b[0;34m,\u001b[0m \u001b[0mSocketTimeout\u001b[0m\u001b[0;34m)\u001b[0m\u001b[0;34m:\u001b[0m\u001b[0;34m\u001b[0m\u001b[0;34m\u001b[0m\u001b[0m\n",
      "\u001b[0;31mNameError\u001b[0m: name 'client_obj' is not defined",
      "\nDuring handling of the above exception, another exception occurred:\n",
      "\u001b[0;31mNameError\u001b[0m                                 Traceback (most recent call last)",
      "\u001b[0;32m<ipython-input-23-c36404b91003>\u001b[0m in \u001b[0;36m<module>\u001b[0;34m\u001b[0m\n\u001b[1;32m      1\u001b[0m \u001b[0;32mtry\u001b[0m\u001b[0;34m:\u001b[0m\u001b[0;34m\u001b[0m\u001b[0;34m\u001b[0m\u001b[0m\n\u001b[1;32m      2\u001b[0m         \u001b[0mclient_obj\u001b[0m\u001b[0;34m.\u001b[0m\u001b[0mget_url\u001b[0m\u001b[0;34m(\u001b[0m\u001b[0murl\u001b[0m\u001b[0;34m)\u001b[0m\u001b[0;34m\u001b[0m\u001b[0;34m\u001b[0m\u001b[0m\n\u001b[0;32m----> 3\u001b[0;31m \u001b[0;32mexcept\u001b[0m \u001b[0;34m(\u001b[0m\u001b[0mURLError\u001b[0m\u001b[0;34m,\u001b[0m \u001b[0mValueError\u001b[0m\u001b[0;34m,\u001b[0m \u001b[0mSocketTimeout\u001b[0m\u001b[0;34m)\u001b[0m\u001b[0;34m:\u001b[0m\u001b[0;34m\u001b[0m\u001b[0;34m\u001b[0m\u001b[0m\n\u001b[0m\u001b[1;32m      4\u001b[0m         \u001b[0mclient_obj\u001b[0m\u001b[0;34m.\u001b[0m\u001b[0mremove_url\u001b[0m\u001b[0;34m(\u001b[0m\u001b[0murl\u001b[0m\u001b[0;34m)\u001b[0m\u001b[0;34m\u001b[0m\u001b[0;34m\u001b[0m\u001b[0m\n",
      "\u001b[0;31mNameError\u001b[0m: name 'URLError' is not defined"
     ]
    }
   ],
   "source": [
    "# If you can handle different exceptions all using a single block of code,\n",
    "# they can be grouped together in a tuple\n",
    "try:\n",
    "\tclient_obj.get_url(url)\n",
    "except (URLError, ValueError, SocketTimeout):\n",
    "\tclient_obj.remove_url(url)\n"
   ]
  },
  {
   "cell_type": "code",
   "execution_count": 24,
   "id": "30fcaabc",
   "metadata": {},
   "outputs": [
    {
     "ename": "NameError",
     "evalue": "name 'URLError' is not defined",
     "output_type": "error",
     "traceback": [
      "\u001b[0;31m---------------------------------------------------------------------------\u001b[0m",
      "\u001b[0;31mNameError\u001b[0m                                 Traceback (most recent call last)",
      "\u001b[0;32m<ipython-input-24-99842408eaa3>\u001b[0m in \u001b[0;36m<module>\u001b[0;34m\u001b[0m\n\u001b[1;32m      4\u001b[0m \u001b[0;32mtry\u001b[0m\u001b[0;34m:\u001b[0m\u001b[0;34m\u001b[0m\u001b[0;34m\u001b[0m\u001b[0m\n\u001b[0;32m----> 5\u001b[0;31m         \u001b[0mclient_obj\u001b[0m\u001b[0;34m.\u001b[0m\u001b[0mget_url\u001b[0m\u001b[0;34m(\u001b[0m\u001b[0murl\u001b[0m\u001b[0;34m)\u001b[0m\u001b[0;34m\u001b[0m\u001b[0;34m\u001b[0m\u001b[0m\n\u001b[0m\u001b[1;32m      6\u001b[0m \u001b[0;32mexcept\u001b[0m \u001b[0;34m(\u001b[0m\u001b[0mURLError\u001b[0m\u001b[0;34m,\u001b[0m \u001b[0mValueError\u001b[0m\u001b[0;34m)\u001b[0m\u001b[0;34m:\u001b[0m\u001b[0;34m\u001b[0m\u001b[0;34m\u001b[0m\u001b[0m\n",
      "\u001b[0;31mNameError\u001b[0m: name 'client_obj' is not defined",
      "\nDuring handling of the above exception, another exception occurred:\n",
      "\u001b[0;31mNameError\u001b[0m                                 Traceback (most recent call last)",
      "\u001b[0;32m<ipython-input-24-99842408eaa3>\u001b[0m in \u001b[0;36m<module>\u001b[0;34m\u001b[0m\n\u001b[1;32m      4\u001b[0m \u001b[0;32mtry\u001b[0m\u001b[0;34m:\u001b[0m\u001b[0;34m\u001b[0m\u001b[0;34m\u001b[0m\u001b[0m\n\u001b[1;32m      5\u001b[0m         \u001b[0mclient_obj\u001b[0m\u001b[0;34m.\u001b[0m\u001b[0mget_url\u001b[0m\u001b[0;34m(\u001b[0m\u001b[0murl\u001b[0m\u001b[0;34m)\u001b[0m\u001b[0;34m\u001b[0m\u001b[0;34m\u001b[0m\u001b[0m\n\u001b[0;32m----> 6\u001b[0;31m \u001b[0;32mexcept\u001b[0m \u001b[0;34m(\u001b[0m\u001b[0mURLError\u001b[0m\u001b[0;34m,\u001b[0m \u001b[0mValueError\u001b[0m\u001b[0;34m)\u001b[0m\u001b[0;34m:\u001b[0m\u001b[0;34m\u001b[0m\u001b[0;34m\u001b[0m\u001b[0m\n\u001b[0m\u001b[1;32m      7\u001b[0m         \u001b[0mclient_obj\u001b[0m\u001b[0;34m.\u001b[0m\u001b[0mremove_url\u001b[0m\u001b[0;34m(\u001b[0m\u001b[0murl\u001b[0m\u001b[0;34m)\u001b[0m\u001b[0;34m\u001b[0m\u001b[0;34m\u001b[0m\u001b[0m\n\u001b[1;32m      8\u001b[0m \u001b[0;32mexcept\u001b[0m \u001b[0mSocketTimeout\u001b[0m\u001b[0;34m:\u001b[0m\u001b[0;34m\u001b[0m\u001b[0;34m\u001b[0m\u001b[0m\n",
      "\u001b[0;31mNameError\u001b[0m: name 'URLError' is not defined"
     ]
    }
   ],
   "source": [
    "# The remove_url() method will be called if any of the listed exceptions occurs. If, on the other hand, if one of the exceptions has to be handled differently,\n",
    "# then put it into its own except clause as shown in the code given below :\n",
    "\n",
    "try:\n",
    "\tclient_obj.get_url(url)\n",
    "except (URLError, ValueError):\n",
    "\tclient_obj.remove_url(url)\n",
    "except SocketTimeout:\n",
    "\tclient_obj.handle_url_timeout(url)\n"
   ]
  },
  {
   "cell_type": "markdown",
   "id": "3e1e1bea",
   "metadata": {},
   "source": [
    "### Many exceptions are grouped into an inheritance hierarchy. For such exceptions, all of the exceptions can be caught by simply specifying a base class."
   ]
  },
  {
   "cell_type": "code",
   "execution_count": 26,
   "id": "5ad403fe",
   "metadata": {},
   "outputs": [
    {
     "name": "stdout",
     "output_type": "stream",
     "text": [
      "something wrong happens\n",
      "something wrong happens\n"
     ]
    }
   ],
   "source": [
    "filename = \"not-exits\"\n",
    "try:\n",
    "    f = open(filename)\n",
    "except (FileNotFoundError, PermissionError):\n",
    "    print(\"something wrong happens\")\n",
    "    \n",
    "# equals to below code\n",
    "# as OSError is base class of FileNotFoundError, PermissionError\n",
    "try:\n",
    "    f = open(filename)\n",
    "except OSError:\n",
    "    print(\"something wrong happens\")"
   ]
  },
  {
   "cell_type": "code",
   "execution_count": 28,
   "id": "fdad2698",
   "metadata": {},
   "outputs": [
    {
     "ename": "NameError",
     "evalue": "name 'errno' is not defined",
     "output_type": "error",
     "traceback": [
      "\u001b[0;31m---------------------------------------------------------------------------\u001b[0m",
      "\u001b[0;31mFileNotFoundError\u001b[0m                         Traceback (most recent call last)",
      "\u001b[0;32m<ipython-input-28-de0b117c3636>\u001b[0m in \u001b[0;36m<module>\u001b[0;34m\u001b[0m\n\u001b[1;32m      3\u001b[0m \u001b[0;32mtry\u001b[0m\u001b[0;34m:\u001b[0m\u001b[0;34m\u001b[0m\u001b[0;34m\u001b[0m\u001b[0m\n\u001b[0;32m----> 4\u001b[0;31m     \u001b[0mf\u001b[0m \u001b[0;34m=\u001b[0m \u001b[0mopen\u001b[0m\u001b[0;34m(\u001b[0m\u001b[0mfilename\u001b[0m\u001b[0;34m)\u001b[0m\u001b[0;34m\u001b[0m\u001b[0;34m\u001b[0m\u001b[0m\n\u001b[0m\u001b[1;32m      5\u001b[0m \u001b[0;34m\u001b[0m\u001b[0m\n",
      "\u001b[0;31mFileNotFoundError\u001b[0m: [Errno 2] No such file or directory: 'not-exits'",
      "\nDuring handling of the above exception, another exception occurred:\n",
      "\u001b[0;31mNameError\u001b[0m                                 Traceback (most recent call last)",
      "\u001b[0;32m<ipython-input-28-de0b117c3636>\u001b[0m in \u001b[0;36m<module>\u001b[0;34m\u001b[0m\n\u001b[1;32m      5\u001b[0m \u001b[0;34m\u001b[0m\u001b[0m\n\u001b[1;32m      6\u001b[0m \u001b[0;32mexcept\u001b[0m \u001b[0mOSError\u001b[0m \u001b[0;32mas\u001b[0m \u001b[0me\u001b[0m\u001b[0;34m:\u001b[0m\u001b[0;34m\u001b[0m\u001b[0;34m\u001b[0m\u001b[0m\n\u001b[0;32m----> 7\u001b[0;31m     \u001b[0;32mif\u001b[0m \u001b[0me\u001b[0m\u001b[0;34m.\u001b[0m\u001b[0merrno\u001b[0m \u001b[0;34m==\u001b[0m \u001b[0merrno\u001b[0m\u001b[0;34m.\u001b[0m\u001b[0mENOENT\u001b[0m\u001b[0;34m:\u001b[0m\u001b[0;34m\u001b[0m\u001b[0;34m\u001b[0m\u001b[0m\n\u001b[0m\u001b[1;32m      8\u001b[0m         \u001b[0mlogger\u001b[0m\u001b[0;34m.\u001b[0m\u001b[0merror\u001b[0m\u001b[0;34m(\u001b[0m\u001b[0;34m'File not found'\u001b[0m\u001b[0;34m)\u001b[0m\u001b[0;34m\u001b[0m\u001b[0;34m\u001b[0m\u001b[0m\n\u001b[1;32m      9\u001b[0m     \u001b[0;32melif\u001b[0m \u001b[0me\u001b[0m\u001b[0;34m.\u001b[0m\u001b[0merrno\u001b[0m \u001b[0;34m==\u001b[0m \u001b[0merrno\u001b[0m\u001b[0;34m.\u001b[0m\u001b[0mEACCES\u001b[0m\u001b[0;34m:\u001b[0m\u001b[0;34m\u001b[0m\u001b[0;34m\u001b[0m\u001b[0m\n",
      "\u001b[0;31mNameError\u001b[0m: name 'errno' is not defined"
     ]
    }
   ],
   "source": [
    "filename = \"not-exits\"\n",
    "\n",
    "try:\n",
    "    f = open(filename)\n",
    "  \n",
    "except OSError as e:\n",
    "    if e.errno == errno.ENOENT:\n",
    "        logger.error('File not found')\n",
    "    elif e.errno == errno.EACCES:\n",
    "        logger.error('Permission denied')\n",
    "    else:\n",
    "        logger.error('Unexpected error: % d', e.errno)"
   ]
  },
  {
   "cell_type": "markdown",
   "id": "e9828c4e",
   "metadata": {},
   "source": [
    "### References\n",
    "\n",
    "- https://www.geeksforgeeks.org/multiple-exception-handling-in-python/\n",
    "- https://www.geeksforgeeks.org/python-raising-an-exception-to-another-exception/\n",
    "- https://www.geeksforgeeks.org/python-exception-handling/"
   ]
  }
 ],
 "metadata": {
  "kernelspec": {
   "display_name": "Python 3",
   "language": "python",
   "name": "python3"
  },
  "language_info": {
   "codemirror_mode": {
    "name": "ipython",
    "version": 3
   },
   "file_extension": ".py",
   "mimetype": "text/x-python",
   "name": "python",
   "nbconvert_exporter": "python",
   "pygments_lexer": "ipython3",
   "version": "3.8.8"
  }
 },
 "nbformat": 4,
 "nbformat_minor": 5
}
