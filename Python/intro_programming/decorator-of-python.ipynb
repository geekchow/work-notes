{
 "cells": [
  {
   "cell_type": "markdown",
   "id": "957d6046",
   "metadata": {},
   "source": [
    "# Decorator in Python\n",
    "\n",
    "> Decorators are a very powerful and useful tool in Python since it allows programmers to modify the behaviour of a function or class. Decorators allow us to wrap another function in order to extend the behaviour of the wrapped function, without permanently modifying it.\n",
    "\n"
   ]
  },
  {
   "cell_type": "markdown",
   "id": "169a155b",
   "metadata": {},
   "source": [
    "## First Class Objects\n",
    "In Python, functions are first class objects which means that functions in Python can be used or passed as arguments.\n",
    "Properties of first class functions:\n",
    "\n",
    "- A function is an instance of the Object type.\n",
    "- You can store the function in a variable.\n",
    "- You can pass the function as a parameter to another function.\n",
    "- You can return the function from a function.\n",
    "- You can store them in data structures such as hash tables, lists, …"
   ]
  },
  {
   "cell_type": "markdown",
   "id": "5b31b057",
   "metadata": {},
   "source": [
    "### Example 1: Treating the functions as objects. "
   ]
  },
  {
   "cell_type": "code",
   "execution_count": 2,
   "id": "f8b80568",
   "metadata": {},
   "outputs": [
    {
     "name": "stdout",
     "output_type": "stream",
     "text": [
      "HELLO\n"
     ]
    },
    {
     "data": {
      "text/plain": [
       "'HELLO'"
      ]
     },
     "execution_count": 2,
     "metadata": {},
     "output_type": "execute_result"
    }
   ],
   "source": [
    "# Python program to illustrate functions\n",
    "# can be treated as objects\n",
    "\n",
    "def shout(text):\n",
    "\treturn text.upper()\n",
    "\n",
    "print(shout('Hello'))\n",
    "\n",
    "yell = shout\n",
    "\n",
    "yell('Hello')\n"
   ]
  },
  {
   "cell_type": "markdown",
   "id": "c6233a93",
   "metadata": {},
   "source": [
    "### Example 2: Passing the function as an argument \n"
   ]
  },
  {
   "cell_type": "code",
   "execution_count": 3,
   "id": "3c7f292d",
   "metadata": {},
   "outputs": [
    {
     "name": "stdout",
     "output_type": "stream",
     "text": [
      "HI, I AM CREATED BY A FUNCTION PASSED AS AN ARGUMENT.\n",
      "hi, i am created by a function passed as an argument.\n"
     ]
    }
   ],
   "source": [
    "# Python program to illustrate functions\n",
    "# can be passed as arguments to other functions\n",
    "def shout(text):\n",
    "\treturn text.upper()\n",
    "\n",
    "def whisper(text):\n",
    "\treturn text.lower()\n",
    "\n",
    "def greet(func):\n",
    "\t# storing the function in a variable\n",
    "\tgreeting = func(\"\"\"Hi, I am created by a function passed as an argument.\"\"\")\n",
    "\tprint (greeting)\n",
    "\n",
    "greet(shout)\n",
    "greet(whisper)\n"
   ]
  },
  {
   "cell_type": "markdown",
   "id": "fb6dc19a",
   "metadata": {},
   "source": [
    "### Example 3: Returning functions from another function."
   ]
  },
  {
   "cell_type": "code",
   "execution_count": 4,
   "id": "27a0594a",
   "metadata": {},
   "outputs": [
    {
     "name": "stdout",
     "output_type": "stream",
     "text": [
      "25\n"
     ]
    }
   ],
   "source": [
    "# Python program to illustrate functions\n",
    "# Functions can return another function\n",
    "\n",
    "def create_adder(x):\n",
    "\tdef adder(y):\n",
    "\t\treturn x+y\n",
    "\n",
    "\treturn adder\n",
    "\n",
    "add_15 = create_adder(15)\n",
    "\n",
    "print(add_15(10))\n"
   ]
  },
  {
   "cell_type": "markdown",
   "id": "2ae2fed2",
   "metadata": {},
   "source": [
    "## Decorators\n",
    "\n",
    "> In Decorators, functions are taken as the argument into another function and then called inside the wrapper function."
   ]
  },
  {
   "cell_type": "markdown",
   "id": "556ca82a",
   "metadata": {},
   "source": [
    "@gfg_decorator\n",
    "def hello_decorator():\n",
    "    print(\"Gfg\")\n",
    "\n",
    "'''\n",
    "Above code is equivalent to -\n",
    "\n",
    "def hello_decorator():\n",
    "    print(\"Gfg\")\n",
    "    \n",
    "hello_decorator = gfg_decorator(hello_decorator)\n",
    "'''\n",
    "\n",
    "'''\n",
    "In the above code, gfg_decorator is a callable function, \n",
    "that will add some code on the top of some another callable function, \n",
    "hello_decorator function and return the wrapper function.\n",
    "'''"
   ]
  },
  {
   "cell_type": "code",
   "execution_count": 5,
   "id": "3df16ce0",
   "metadata": {},
   "outputs": [
    {
     "name": "stdout",
     "output_type": "stream",
     "text": [
      "Hello, this is before function execution\n",
      "This is inside the function !!\n",
      "This is after function execution\n"
     ]
    }
   ],
   "source": [
    "# defining a decorator\n",
    "def hello_decorator(func):\n",
    "\n",
    "\t# inner1 is a Wrapper function in\n",
    "\t# which the argument is called\n",
    "\t\n",
    "\t# inner function can access the outer local\n",
    "\t# functions like in this case \"func\"\n",
    "\tdef inner1():\n",
    "\t\tprint(\"Hello, this is before function execution\")\n",
    "\n",
    "\t\t# calling the actual function now\n",
    "\t\t# inside the wrapper function.\n",
    "\t\tfunc()\n",
    "\n",
    "\t\tprint(\"This is after function execution\")\n",
    "\t\t\n",
    "\treturn inner1\n",
    "\n",
    "\n",
    "# defining a function, to be called inside wrapper\n",
    "def function_to_be_used():\n",
    "\tprint(\"This is inside the function !!\")\n",
    "\n",
    "\n",
    "# passing 'function_to_be_used' inside the\n",
    "# decorator to control its behaviour\n",
    "function_to_be_used = hello_decorator(function_to_be_used)\n",
    "\n",
    "\n",
    "# calling the function\n",
    "function_to_be_used()\n"
   ]
  },
  {
   "cell_type": "markdown",
   "id": "ed60bdc6",
   "metadata": {},
   "source": [
    "- PART 1 decorating process\n",
    "\n",
    "![part1](./decorators_step-01.png)\n",
    "\n",
    "- PART 2 execution process\n",
    "\n",
    "![part2](./decorators_step-02.png)"
   ]
  },
  {
   "cell_type": "markdown",
   "id": "4718b55e",
   "metadata": {},
   "source": [
    "### Example the execution time of a function using a decorator."
   ]
  },
  {
   "cell_type": "code",
   "execution_count": 6,
   "id": "5de3d168",
   "metadata": {},
   "outputs": [
    {
     "name": "stdout",
     "output_type": "stream",
     "text": [
      "3628800\n",
      "Total time taken in :  factorial 2.006582736968994\n"
     ]
    }
   ],
   "source": [
    "# importing libraries\n",
    "import time\n",
    "import math\n",
    "\n",
    "# decorator to calculate duration\n",
    "# taken by any function.\n",
    "def calculate_time(func):\n",
    "\t\n",
    "\t# added arguments inside the inner1,\n",
    "\t# if function takes any arguments,\n",
    "\t# can be added like this.\n",
    "\tdef inner1(*args, **kwargs):\n",
    "\n",
    "\t\t# storing time before function execution\n",
    "\t\tbegin = time.time()\n",
    "\t\t\n",
    "\t\tfunc(*args, **kwargs)\n",
    "\n",
    "\t\t# storing time after function execution\n",
    "\t\tend = time.time()\n",
    "\t\tprint(\"Total time taken in : \", func.__name__, end - begin)\n",
    "\n",
    "\treturn inner1\n",
    "\n",
    "\n",
    "\n",
    "# this can be added to any function present,\n",
    "# in this case to calculate a factorial\n",
    "@calculate_time\n",
    "def factorial(num):\n",
    "\n",
    "\t# sleep 2 seconds because it takes very less time\n",
    "\t# so that you can see the actual difference\n",
    "\ttime.sleep(2)\n",
    "\tprint(math.factorial(num))\n",
    "\n",
    "# calling the function.\n",
    "factorial(10)\n"
   ]
  },
  {
   "cell_type": "markdown",
   "id": "10c086c9",
   "metadata": {},
   "source": [
    "### What if a function returns something or an argument is passed to the function?"
   ]
  },
  {
   "cell_type": "code",
   "execution_count": 7,
   "id": "1f38f3fd",
   "metadata": {},
   "outputs": [
    {
     "name": "stdout",
     "output_type": "stream",
     "text": [
      "before Execution\n",
      "Inside the function\n",
      "after Execution\n",
      "Sum = 3\n"
     ]
    }
   ],
   "source": [
    "def hello_decorator(func):\n",
    "\tdef inner1(*args, **kwargs):\n",
    "\t\t\n",
    "\t\tprint(\"before Execution\")\n",
    "\t\t\n",
    "\t\t# getting the returned value\n",
    "\t\treturned_value = func(*args, **kwargs)\n",
    "\t\tprint(\"after Execution\")\n",
    "\t\t\n",
    "\t\t# returning the value to the original frame\n",
    "\t\treturn returned_value\n",
    "\t\t\n",
    "\treturn inner1\n",
    "\n",
    "\n",
    "# adding decorator to the function\n",
    "@hello_decorator\n",
    "def sum_two_numbers(a, b):\n",
    "\tprint(\"Inside the function\")\n",
    "\treturn a + b\n",
    "\n",
    "a, b = 1, 2\n",
    "\n",
    "# getting the value through return of the function\n",
    "print(\"Sum =\", sum_two_numbers(a, b))\n"
   ]
  },
  {
   "cell_type": "markdown",
   "id": "ef9624fe",
   "metadata": {},
   "source": [
    "## Chaining Decorators\n",
    "\n",
    "> In simpler terms chaining decorators means decorating a function with multiple decorators.\n"
   ]
  },
  {
   "cell_type": "code",
   "execution_count": 8,
   "id": "b552fe3c",
   "metadata": {},
   "outputs": [
    {
     "name": "stdout",
     "output_type": "stream",
     "text": [
      "400\n",
      "200\n"
     ]
    }
   ],
   "source": [
    "# code for testing decorator chaining\n",
    "def decor1(func):\n",
    "\tdef inner():\n",
    "\t\tx = func()\n",
    "\t\treturn x * x\n",
    "\treturn inner\n",
    "\n",
    "def decor(func):\n",
    "\tdef inner():\n",
    "\t\tx = func()\n",
    "\t\treturn 2 * x\n",
    "\treturn inner\n",
    "\n",
    "@decor1\n",
    "@decor\n",
    "def num():\n",
    "\treturn 10\n",
    "\n",
    "'''\n",
    "decor1(decor(num))\n",
    "'''\n",
    "\n",
    "@decor\n",
    "@decor1\n",
    "def num2():\n",
    "\treturn 10\n",
    "\n",
    "\n",
    "'''\n",
    "decor(decor1(num2))\n",
    "'''\n",
    "\n",
    "print(num())\n",
    "print(num2())\n",
    "\n"
   ]
  },
  {
   "cell_type": "markdown",
   "id": "44d90509",
   "metadata": {},
   "source": [
    "### References: https://www.geeksforgeeks.org/introduction-to-python/"
   ]
  }
 ],
 "metadata": {
  "kernelspec": {
   "display_name": "Python 3",
   "language": "python",
   "name": "python3"
  },
  "language_info": {
   "codemirror_mode": {
    "name": "ipython",
    "version": 3
   },
   "file_extension": ".py",
   "mimetype": "text/x-python",
   "name": "python",
   "nbconvert_exporter": "python",
   "pygments_lexer": "ipython3",
   "version": "3.8.8"
  }
 },
 "nbformat": 4,
 "nbformat_minor": 5
}
