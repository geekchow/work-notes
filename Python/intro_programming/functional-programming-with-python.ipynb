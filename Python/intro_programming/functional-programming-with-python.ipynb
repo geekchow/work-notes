{
 "cells": [
  {
   "cell_type": "markdown",
   "id": "20b836cc",
   "metadata": {},
   "source": [
    "# Functional Programming with Python "
   ]
  },
  {
   "cell_type": "markdown",
   "id": "7ae32c1e",
   "metadata": {},
   "source": [
    "## lambda function\n",
    "\n",
    "```\n",
    "lambda parameter_list: expression\n",
    "```"
   ]
  },
  {
   "cell_type": "code",
   "execution_count": 2,
   "id": "0acef491",
   "metadata": {},
   "outputs": [
    {
     "name": "stdout",
     "output_type": "stream",
     "text": [
      "3 3\n"
     ]
    }
   ],
   "source": [
    "def add(x, y):\n",
    "    return x + y\n",
    "\n",
    "a = add(1, 2)\n",
    "\n",
    "# 等同于：\n",
    "\n",
    "f = lambda x,y: x+y\n",
    "b = f(1, 2)\n",
    "\n",
    "print(a, b)"
   ]
  },
  {
   "cell_type": "markdown",
   "id": "c19159cf",
   "metadata": {},
   "source": [
    "## functions\n",
    "\n",
    "- map\n",
    "- reduce\n",
    "- filter\n",
    "- any\n",
    "- all"
   ]
  },
  {
   "cell_type": "code",
   "execution_count": 7,
   "id": "bb6467e3",
   "metadata": {},
   "outputs": [
    {
     "data": {
      "text/plain": [
       "[1, 4, 9]"
      ]
     },
     "execution_count": 7,
     "metadata": {},
     "output_type": "execute_result"
    }
   ],
   "source": [
    "# map: [a,b,c] -lambda function -> [A,B,C]\n",
    "\n",
    "list_x = [1,2,3]\n",
    "\n",
    "y = map(lambda a: a*a, list_x)\n",
    "\n",
    "list(y)\n"
   ]
  },
  {
   "cell_type": "code",
   "execution_count": 10,
   "id": "4d998ade",
   "metadata": {},
   "outputs": [
    {
     "data": {
      "text/plain": [
       "[1, 1, 1]"
      ]
     },
     "execution_count": 10,
     "metadata": {},
     "output_type": "execute_result"
    }
   ],
   "source": [
    "# filter: filter out items fulfill critera.\n",
    "\n",
    "list_x = [1,0,1,0,0,1]\n",
    "\n",
    "r = filter(lambda x: True if x==1 else False, list_x)\n",
    "\n",
    "list(r)\n"
   ]
  },
  {
   "cell_type": "code",
   "execution_count": 12,
   "id": "1f05fae8",
   "metadata": {},
   "outputs": [
    {
     "name": "stdout",
     "output_type": "stream",
     "text": [
      "10 20\n"
     ]
    }
   ],
   "source": [
    "# reduce , accumulate a list of items\n",
    "# first param: a function recieve first and second value as params.\n",
    "# second param: list\n",
    "# last param: init value.\n",
    "\n",
    "from functools import reduce\n",
    "\n",
    "list_x = [1,2,3,4]\n",
    "\n",
    "r = reduce(lambda x,y: x+y, list_x)\n",
    "r    # return：10\n",
    "#　((1+2)+3)+4\n",
    "\n",
    "b = reduce(lambda x,y: x+y, list_x, 10)  # 10 is initial value\n",
    "b    # return：20\n",
    "#　(((10+1)+2)+3)+4\n",
    "\n",
    "print(r, b)\n"
   ]
  },
  {
   "cell_type": "markdown",
   "id": "e936dc30",
   "metadata": {},
   "source": [
    "# any\n",
    "\n",
    "\n",
    "```python\n",
    "def any(iterable):\n",
    "    for element in iterable:\n",
    "        if element:\n",
    "            return True\n",
    "    return False\n",
    "```"
   ]
  },
  {
   "cell_type": "code",
   "execution_count": 14,
   "id": "5c8dc854",
   "metadata": {},
   "outputs": [
    {
     "name": "stdout",
     "output_type": "stream",
     "text": [
      "False\n",
      "True\n"
     ]
    }
   ],
   "source": [
    "my_string = \"***456278)))\"\n",
    "\n",
    "num = [char.isalpha() for char in my_string]\n",
    "\n",
    "# Output: False, since no character there.\n",
    "\n",
    "print(any(num))\n",
    "\n",
    "\n",
    "my_string2 = \"***456278b)))\"\n",
    "\n",
    "num2 = [char.isdigit() for char in my_string2]\n",
    "\n",
    "# Output: True, since there is a character there.\n",
    "print(any(num2))\n"
   ]
  },
  {
   "cell_type": "markdown",
   "id": "4957acad",
   "metadata": {},
   "source": [
    "## all \n",
    "\n",
    "> When all elements in a list is true , the all(list) return true.\n",
    "\n",
    "```python\n",
    "def all(iterable):\n",
    "    for element in iterable:\n",
    "        if not element:\n",
    "            return False\n",
    "    return True\n",
    "```\n"
   ]
  },
  {
   "cell_type": "code",
   "execution_count": 16,
   "id": "0f596630",
   "metadata": {},
   "outputs": [
    {
     "name": "stdout",
     "output_type": "stream",
     "text": [
      "True\n",
      "[True, True, True, True, True, True, True, True]\n"
     ]
    }
   ],
   "source": [
    "my_string = \"56456278\"\n",
    "are_all_digits = [char.isdigit() for char in my_string]\n",
    "print(all(are_all_digits))\n",
    "\n",
    "\n",
    "print(are_all_digits)"
   ]
  },
  {
   "cell_type": "markdown",
   "id": "39efe524",
   "metadata": {},
   "source": [
    "## references https://blog.csdn.net/qq_42663265/article/details/81605489?spm=1001.2014.3001.5501"
   ]
  }
 ],
 "metadata": {
  "kernelspec": {
   "display_name": "Python 3",
   "language": "python",
   "name": "python3"
  },
  "language_info": {
   "codemirror_mode": {
    "name": "ipython",
    "version": 3
   },
   "file_extension": ".py",
   "mimetype": "text/x-python",
   "name": "python",
   "nbconvert_exporter": "python",
   "pygments_lexer": "ipython3",
   "version": "3.8.8"
  }
 },
 "nbformat": 4,
 "nbformat_minor": 5
}
