{
 "cells": [
  {
   "cell_type": "markdown",
   "id": "c81307af",
   "metadata": {},
   "source": [
    "# how to use jupyter notebook\n",
    "\n",
    "\n",
    "## Launch jupyter notebook \n",
    "```shell\n",
    "# go to the destination directory.\n",
    "jupyter notebook\n",
    "# it's going to launch a jupyter notebook in the browser.\n",
    "```"
   ]
  },
  {
   "cell_type": "markdown",
   "id": "08705fe3",
   "metadata": {},
   "source": [
    "##run python scripts"
   ]
  },
  {
   "cell_type": "code",
   "execution_count": 14,
   "id": "112ee874",
   "metadata": {
    "scrolled": true
   },
   "outputs": [
    {
     "name": "stdout",
     "output_type": "stream",
     "text": [
      "=========xs array==========\n",
      "[0.18184646 0.88810307 0.10720014 0.36724506 0.90584797 0.25464438\n",
      " 0.62686521 0.77000448 0.77381329 0.78750454 0.04490657 0.80606728\n",
      " 0.80236601 0.29839188 0.64470894 0.87455056 0.28354544 0.15783649\n",
      " 0.82575008 0.45920837 0.88382065 0.80417579 0.4114984  0.59984936\n",
      " 0.58604125 0.63281561 0.10792827 0.95460692 0.72745309 0.07839134\n",
      " 0.55585279 0.73725983 0.39254521 0.76760783 0.73268666 0.33007914\n",
      " 0.99870279 0.353598   0.16194442 0.29030283 0.83776933 0.79254959\n",
      " 0.356537   0.55190731 0.15368405 0.22795069 0.06929059 0.59083021\n",
      " 0.39970885 0.32120131]\n",
      "=========ys array==========\n",
      "[0.59180605 0.25615807 0.8017717  0.56182597 0.54918971 0.1551293\n",
      " 0.95827524 0.50153201 0.06744925 0.18444542 0.57714373 0.67974553\n",
      " 0.39339697 0.46491207 0.90189887 0.64632865 0.03154522 0.43925047\n",
      " 0.09366951 0.5023581  0.47514914 0.5837766  0.1557547  0.95273473\n",
      " 0.99812579 0.60483364 0.80640356 0.3153532  0.12615797 0.98584888\n",
      " 0.30185034 0.75405531 0.211003   0.97319237 0.06952952 0.13759435\n",
      " 0.34707672 0.3784062  0.39958035 0.53077671 0.42944578 0.83227682\n",
      " 0.49019979 0.22245395 0.64783326 0.89559356 0.68245841 0.60575126\n",
      " 0.51140753 0.37119747]\n",
      "=========colors array==========\n",
      "[0.01120339 0.13614634 0.64659741 0.24699304 0.69892375 0.07755026\n",
      " 0.72781507 0.83629112 0.76347512 0.5578272  0.81631124 0.70198854\n",
      " 0.8049649  0.15830589 0.87042515 0.69539729 0.04518824 0.67448352\n",
      " 0.25788138 0.78999881 0.99957757 0.28422796 0.46055848 0.86289374\n",
      " 0.04416243 0.54375738 0.28288148 0.43947739 0.58437998 0.18885785\n",
      " 0.34635567 0.42095486 0.31152112 0.82739123 0.02932466 0.3567758\n",
      " 0.15180841 0.33070412 0.33817139 0.5694961  0.30298747 0.07929321\n",
      " 0.63576493 0.03571896 0.68296957 0.48369793 0.71985084 0.58888835\n",
      " 0.86322465 0.1521718 ]\n",
      "=========areas array==========\n",
      "[4.96940355e+02 2.57094868e+02 3.57268761e+02 4.17953899e+02\n",
      " 5.37632904e+00 7.48539283e+01 3.57423841e+01 1.67790935e+02\n",
      " 1.11467344e+02 1.78658230e+02 2.72262647e+02 2.58413490e+02\n",
      " 2.91625432e+01 5.02139752e+00 1.01343011e+02 2.38358961e+00\n",
      " 5.16375160e+02 1.56192531e+02 6.79660335e+01 5.29851229e+02\n",
      " 4.61924185e+00 3.96026090e+02 4.92231350e+02 2.00005948e+02\n",
      " 5.48500872e+02 5.02035710e-02 5.54112830e+02 8.75817344e+00\n",
      " 7.84433577e+01 3.47268210e+02 3.36753782e+02 3.72758646e+02\n",
      " 2.17351951e+02 2.39528676e+02 6.64907764e+02 2.11108175e+02\n",
      " 2.70154952e+02 5.45120683e+02 5.49687317e+01 1.37775688e+02\n",
      " 4.36379095e+01 9.41464785e+00 2.63948154e+02 2.27928700e-01\n",
      " 6.21191597e+00 2.11749874e+02 5.82231995e+02 4.51631757e+02\n",
      " 4.10431647e+01 5.29740027e+01]\n",
      "++++++++plot diagram++++++++++++++++\n"
     ]
    },
    {
     "data": {
      "image/png": "[encoded data removed]",
      "text/plain": [
       "<Figure size 432x288 with 1 Axes>"
      ]
     },
     "metadata": {
      "needs_background": "light"
     },
     "output_type": "display_data"
    }
   ],
   "source": [
    "'''\n",
    "run python scripts\n",
    "'''\n",
    "import numpy as np\n",
    "import matplotlib.pyplot as plt\n",
    "\n",
    "N = 50\n",
    "xs = np.random.rand(N)\n",
    "print(\"=========xs array==========\")\n",
    "print(xs)\n",
    "\n",
    "ys = np.random.rand(N)\n",
    "print(\"=========ys array==========\")\n",
    "print(ys)\n",
    "\n",
    "colors = np.random.rand(N)\n",
    "print(\"=========colors array==========\")\n",
    "print(colors)\n",
    "\n",
    "areas = np.pi * (15 * np.random.rand(N)) ** 2\n",
    "print(\"=========areas array==========\")\n",
    "print(areas)\n",
    "\n",
    "plt.scatter(xs, ys, s=areas, c=colors, alpha=0.5)\n",
    "print(\"++++++++plot diagram++++++++++++++++\")\n",
    "plt.show()"
   ]
  },
  {
   "cell_type": "markdown",
   "id": "4982bfab",
   "metadata": {},
   "source": [
    "## magic and shell\n",
    "\n",
    "* cell magic only exit at IPython kernel"
   ]
  },
  {
   "cell_type": "code",
   "execution_count": 10,
   "id": "869132d3",
   "metadata": {},
   "outputs": [
    {
     "name": "stdout",
     "output_type": "stream",
     "text": [
      "Package            Version\r\n",
      "------------------ ---------\r\n",
      "certifi            2021.10.8\r\n",
      "charset-normalizer 2.0.12\r\n",
      "idna               3.3\r\n",
      "pip                20.2.3\r\n",
      "requests           2.27.1\r\n",
      "setuptools         49.2.1\r\n",
      "six                1.15.0\r\n",
      "urllib3            1.26.8\r\n",
      "wheel              0.33.1\r\n",
      "\u001b[33mWARNING: You are using pip version 20.2.3; however, version 22.0.3 is available.\r\n",
      "You should consider upgrading via the '/Library/Developer/CommandLineTools/usr/bin/python3 -m pip install --upgrade pip' command.\u001b[0m\r\n"
     ]
    }
   ],
   "source": [
    "!pip3 list"
   ]
  },
  {
   "cell_type": "code",
   "execution_count": 11,
   "id": "2377ab99",
   "metadata": {},
   "outputs": [
    {
     "name": "stdout",
     "output_type": "stream",
     "text": [
      "/Users/phil/github/my-own/work-notes/Python\r\n"
     ]
    }
   ],
   "source": [
    "!pwd"
   ]
  },
  {
   "cell_type": "code",
   "execution_count": 12,
   "id": "f2bdce11",
   "metadata": {},
   "outputs": [
    {
     "name": "stdout",
     "output_type": "stream",
     "text": [
      "total 152\r\n",
      "drwxr-xr-x   8 phil  staff    256  3  6 21:36 \u001b[34m.\u001b[m\u001b[m\r\n",
      "drwxr-xr-x  16 phil  staff    512 12 12 19:56 \u001b[34m..\u001b[m\u001b[m\r\n",
      "drwxr-xr-x   4 phil  staff    128  3  6 21:07 \u001b[34m.ipynb_checkpoints\u001b[m\u001b[m\r\n",
      "-rw-r--r--   1 phil  staff   1876  1 17  2021 Debug-Python-With-VS-Code.md\r\n",
      "-rw-r--r--   1 phil  staff  21805  3  5 23:43 Untitled.ipynb\r\n",
      "-rw-r--r--   1 phil  staff   3777  3  6 21:36 jupyter-notebook.ipynb\r\n",
      "-rw-r--r--   1 phil  staff    609  3  5 23:37 jupyter-notebook.md\r\n",
      "-rw-r--r--   1 phil  staff  40016 10  7 23:18 subprocess-shell.ipynb\r\n"
     ]
    }
   ],
   "source": [
    "!ls -al"
   ]
  },
  {
   "cell_type": "code",
   "execution_count": 13,
   "id": "31858670",
   "metadata": {},
   "outputs": [
    {
     "data": {
      "application/json": {
       "cell": {
        "!": "OSMagics",
        "HTML": "Other",
        "SVG": "Other",
        "bash": "Other",
        "capture": "ExecutionMagics",
        "debug": "ExecutionMagics",
        "file": "Other",
        "html": "DisplayMagics",
        "javascript": "DisplayMagics",
        "js": "DisplayMagics",
        "latex": "DisplayMagics",
        "markdown": "DisplayMagics",
        "perl": "Other",
        "prun": "ExecutionMagics",
        "pypy": "Other",
        "python": "Other",
        "python2": "Other",
        "python3": "Other",
        "ruby": "Other",
        "script": "ScriptMagics",
        "sh": "Other",
        "svg": "DisplayMagics",
        "sx": "OSMagics",
        "system": "OSMagics",
        "time": "ExecutionMagics",
        "timeit": "ExecutionMagics",
        "writefile": "OSMagics"
       },
       "line": {
        "alias": "OSMagics",
        "alias_magic": "BasicMagics",
        "autoawait": "AsyncMagics",
        "autocall": "AutoMagics",
        "automagic": "AutoMagics",
        "autosave": "KernelMagics",
        "bookmark": "OSMagics",
        "cat": "Other",
        "cd": "OSMagics",
        "clear": "KernelMagics",
        "colors": "BasicMagics",
        "conda": "PackagingMagics",
        "config": "ConfigMagics",
        "connect_info": "KernelMagics",
        "cp": "Other",
        "debug": "ExecutionMagics",
        "dhist": "OSMagics",
        "dirs": "OSMagics",
        "doctest_mode": "BasicMagics",
        "ed": "Other",
        "edit": "KernelMagics",
        "env": "OSMagics",
        "gui": "BasicMagics",
        "hist": "Other",
        "history": "HistoryMagics",
        "killbgscripts": "ScriptMagics",
        "ldir": "Other",
        "less": "KernelMagics",
        "lf": "Other",
        "lk": "Other",
        "ll": "Other",
        "load": "CodeMagics",
        "load_ext": "ExtensionMagics",
        "loadpy": "CodeMagics",
        "logoff": "LoggingMagics",
        "logon": "LoggingMagics",
        "logstart": "LoggingMagics",
        "logstate": "LoggingMagics",
        "logstop": "LoggingMagics",
        "ls": "Other",
        "lsmagic": "BasicMagics",
        "lx": "Other",
        "macro": "ExecutionMagics",
        "magic": "BasicMagics",
        "man": "KernelMagics",
        "matplotlib": "PylabMagics",
        "mkdir": "Other",
        "more": "KernelMagics",
        "mv": "Other",
        "notebook": "BasicMagics",
        "page": "BasicMagics",
        "pastebin": "CodeMagics",
        "pdb": "ExecutionMagics",
        "pdef": "NamespaceMagics",
        "pdoc": "NamespaceMagics",
        "pfile": "NamespaceMagics",
        "pinfo": "NamespaceMagics",
        "pinfo2": "NamespaceMagics",
        "pip": "PackagingMagics",
        "popd": "OSMagics",
        "pprint": "BasicMagics",
        "precision": "BasicMagics",
        "prun": "ExecutionMagics",
        "psearch": "NamespaceMagics",
        "psource": "NamespaceMagics",
        "pushd": "OSMagics",
        "pwd": "OSMagics",
        "pycat": "OSMagics",
        "pylab": "PylabMagics",
        "qtconsole": "KernelMagics",
        "quickref": "BasicMagics",
        "recall": "HistoryMagics",
        "rehashx": "OSMagics",
        "reload_ext": "ExtensionMagics",
        "rep": "Other",
        "rerun": "HistoryMagics",
        "reset": "NamespaceMagics",
        "reset_selective": "NamespaceMagics",
        "rm": "Other",
        "rmdir": "Other",
        "run": "ExecutionMagics",
        "save": "CodeMagics",
        "sc": "OSMagics",
        "set_env": "OSMagics",
        "store": "StoreMagics",
        "sx": "OSMagics",
        "system": "OSMagics",
        "tb": "ExecutionMagics",
        "time": "ExecutionMagics",
        "timeit": "ExecutionMagics",
        "unalias": "OSMagics",
        "unload_ext": "ExtensionMagics",
        "who": "NamespaceMagics",
        "who_ls": "NamespaceMagics",
        "whos": "NamespaceMagics",
        "xdel": "NamespaceMagics",
        "xmode": "BasicMagics"
       }
      },
      "text/plain": [
       "Available line magics:\n",
       "%alias  %alias_magic  %autoawait  %autocall  %automagic  %autosave  %bookmark  %cat  %cd  %clear  %colors  %conda  %config  %connect_info  %cp  %debug  %dhist  %dirs  %doctest_mode  %ed  %edit  %env  %gui  %hist  %history  %killbgscripts  %ldir  %less  %lf  %lk  %ll  %load  %load_ext  %loadpy  %logoff  %logon  %logstart  %logstate  %logstop  %ls  %lsmagic  %lx  %macro  %magic  %man  %matplotlib  %mkdir  %more  %mv  %notebook  %page  %pastebin  %pdb  %pdef  %pdoc  %pfile  %pinfo  %pinfo2  %pip  %popd  %pprint  %precision  %prun  %psearch  %psource  %pushd  %pwd  %pycat  %pylab  %qtconsole  %quickref  %recall  %rehashx  %reload_ext  %rep  %rerun  %reset  %reset_selective  %rm  %rmdir  %run  %save  %sc  %set_env  %store  %sx  %system  %tb  %time  %timeit  %unalias  %unload_ext  %who  %who_ls  %whos  %xdel  %xmode\n",
       "\n",
       "Available cell magics:\n",
       "%%!  %%HTML  %%SVG  %%bash  %%capture  %%debug  %%file  %%html  %%javascript  %%js  %%latex  %%markdown  %%perl  %%prun  %%pypy  %%python  %%python2  %%python3  %%ruby  %%script  %%sh  %%svg  %%sx  %%system  %%time  %%timeit  %%writefile\n",
       "\n",
       "Automagic is ON, % prefix IS NOT needed for line magics."
      ]
     },
     "execution_count": 13,
     "metadata": {},
     "output_type": "execute_result"
    }
   ],
   "source": [
    "%lsmagic"
   ]
  },
  {
   "cell_type": "markdown",
   "id": "1cdd741d",
   "metadata": {},
   "source": [
    "## Install and set up jupyter notebook\n",
    "\n",
    "* Download installer package from [here](https://docs.anaconda.com/anaconda/install/mac-os/)\n",
    "\n",
    "### IPython kernel is shipped by Anaconda by default.\n",
    "\n",
    "\n",
    "### setup javascript support\n",
    "```shell\n",
    "# seems https://repo.anaconda.com/pkgs/main/noarch/current_repodata.json is blocked, \n",
    "# need to use proxy \n",
    "https_proxy=http://localhost:7890 conda install nodejs\n",
    "\n",
    "# install \n",
    "npm install -g iJavaScript \n",
    "\n",
    "ijsinstall \n",
    "\n",
    "```"
   ]
  },
  {
   "cell_type": "markdown",
   "id": "926521ed",
   "metadata": {},
   "source": []
  },
  {
   "cell_type": "code",
   "execution_count": null,
   "id": "02bcaf9f",
   "metadata": {},
   "outputs": [],
   "source": []
  },
  {
   "cell_type": "code",
   "execution_count": null,
   "id": "f5519dc6",
   "metadata": {},
   "outputs": [],
   "source": []
  }
 ],
 "metadata": {
  "kernelspec": {
   "display_name": "Python 3",
   "language": "python",
   "name": "python3"
  },
  "language_info": {
   "codemirror_mode": {
    "name": "ipython",
    "version": 3
   },
   "file_extension": ".py",
   "mimetype": "text/x-python",
   "name": "python",
   "nbconvert_exporter": "python",
   "pygments_lexer": "ipython3",
   "version": "3.8.8"
  }
 },
 "nbformat": 4,
 "nbformat_minor": 5
}
